{
 "cells": [
  {
   "cell_type": "markdown",
   "metadata": {
    "colab_type": "text",
    "id": "iokdHGmkE2GY"
   },
   "source": [
    "# Homework 1\n",
    "#### Deadline: 08:59 24/09/2020\n",
    "#### Review deadline: 07:59 26/09/2020\n",
    "#### Send notebook with solutions to valeriya.mikova@phystech.edu\n",
    "#### The subject field  of you email should contain your surname. Example: 'HW0_Mikova'"
   ]
  },
  {
   "cell_type": "markdown",
   "metadata": {
    "colab_type": "text",
    "id": "FRGkcHrxE2GZ"
   },
   "source": [
    "## Important information:\n",
    "Please, follow provided in the notebook signatures of functions. Otherwise, you homework will not be graded.\n",
    "\n",
    "Don't delete cells from this notebook. You can add as many as you need."
   ]
  },
  {
   "cell_type": "markdown",
   "metadata": {
    "colab_type": "text",
    "id": "mGjzv1xWE2Ga"
   },
   "source": [
    "In this homework we suggest you use Biopython package for  substitution matrices."
   ]
  },
  {
   "cell_type": "code",
   "execution_count": 3,
   "metadata": {
    "colab": {
     "base_uri": "https://localhost:8080/",
     "height": 130
    },
    "colab_type": "code",
    "executionInfo": {
     "elapsed": 1136,
     "status": "error",
     "timestamp": 1600715917436,
     "user": {
      "displayName": "Дмитрий Пустошилов",
      "photoUrl": "https://lh3.googleusercontent.com/a-/AOh14GhwNjMicpquXfbdCEjdmwAFFiisgzBC-POjfcY9MA=s64",
      "userId": "00682977338905941919"
     },
     "user_tz": -180
    },
    "id": "MQh3bsgBE2Gb",
    "outputId": "2f1bc2ee-614e-491a-ffff-436d64ee6381"
   },
   "outputs": [],
   "source": [
    "from Bio.Align import substitution_matrices"
   ]
  },
  {
   "cell_type": "markdown",
   "metadata": {
    "colab_type": "text",
    "id": "elOEUjXKE2Gg"
   },
   "source": [
    "You can choose the matrix"
   ]
  },
  {
   "cell_type": "code",
   "execution_count": 4,
   "metadata": {
    "colab": {},
    "colab_type": "code",
    "id": "HeLbiKlYE2Gh",
    "outputId": "b24d9f4f-3972-4627-8357-987d7f1e2643"
   },
   "outputs": [
    {
     "data": {
      "text/plain": "['BENNER22',\n 'BENNER6',\n 'BENNER74',\n 'BLOSUM45',\n 'BLOSUM50',\n 'BLOSUM62',\n 'BLOSUM80',\n 'BLOSUM90',\n 'DAYHOFF',\n 'FENG',\n 'GENETIC',\n 'GONNET1992',\n 'HOXD70',\n 'JOHNSON',\n 'JONES',\n 'LEVIN',\n 'MCLACHLAN',\n 'MDM78',\n 'NUC.4.4',\n 'PAM250',\n 'PAM30',\n 'PAM70',\n 'RAO',\n 'RISLER',\n 'SCHNEIDER',\n 'STR',\n 'TRANS']"
     },
     "execution_count": 4,
     "metadata": {},
     "output_type": "execute_result"
    }
   ],
   "source": [
    "substitution_matrices.load()"
   ]
  },
  {
   "cell_type": "markdown",
   "metadata": {
    "colab_type": "text",
    "id": "7CGgxB0yE2Gk"
   },
   "source": [
    "and load it. Let's load BLOSUM50 substitution matrix."
   ]
  },
  {
   "cell_type": "code",
   "execution_count": 5,
   "metadata": {
    "colab": {},
    "colab_type": "code",
    "id": "7xT6bBD6E2Gl",
    "outputId": "50551654-f5a9-4d72-aee0-a2ac09efd3ae"
   },
   "outputs": [
    {
     "data": {
      "text/plain": "Array([[ 5., -2., -1., -2., -1., -1., -1.,  0., -2., -1., -2., -1., -1.,\n        -3., -1.,  1.,  0., -3., -2.,  0., -2., -1., -1., -5.],\n       [-2.,  7., -1., -2., -4.,  1.,  0., -3.,  0., -4., -3.,  3., -2.,\n        -3., -3., -1., -1., -3., -1., -3., -1.,  0., -1., -5.],\n       [-1., -1.,  7.,  2., -2.,  0.,  0.,  0.,  1., -3., -4.,  0., -2.,\n        -4., -2.,  1.,  0., -4., -2., -3.,  4.,  0., -1., -5.],\n       [-2., -2.,  2.,  8., -4.,  0.,  2., -1., -1., -4., -4., -1., -4.,\n        -5., -1.,  0., -1., -5., -3., -4.,  5.,  1., -1., -5.],\n       [-1., -4., -2., -4., 13., -3., -3., -3., -3., -2., -2., -3., -2.,\n        -2., -4., -1., -1., -5., -3., -1., -3., -3., -2., -5.],\n       [-1.,  1.,  0.,  0., -3.,  7.,  2., -2.,  1., -3., -2.,  2.,  0.,\n        -4., -1.,  0., -1., -1., -1., -3.,  0.,  4., -1., -5.],\n       [-1.,  0.,  0.,  2., -3.,  2.,  6., -3.,  0., -4., -3.,  1., -2.,\n        -3., -1., -1., -1., -3., -2., -3.,  1.,  5., -1., -5.],\n       [ 0., -3.,  0., -1., -3., -2., -3.,  8., -2., -4., -4., -2., -3.,\n        -4., -2.,  0., -2., -3., -3., -4., -1., -2., -2., -5.],\n       [-2.,  0.,  1., -1., -3.,  1.,  0., -2., 10., -4., -3.,  0., -1.,\n        -1., -2., -1., -2., -3.,  2., -4.,  0.,  0., -1., -5.],\n       [-1., -4., -3., -4., -2., -3., -4., -4., -4.,  5.,  2., -3.,  2.,\n         0., -3., -3., -1., -3., -1.,  4., -4., -3., -1., -5.],\n       [-2., -3., -4., -4., -2., -2., -3., -4., -3.,  2.,  5., -3.,  3.,\n         1., -4., -3., -1., -2., -1.,  1., -4., -3., -1., -5.],\n       [-1.,  3.,  0., -1., -3.,  2.,  1., -2.,  0., -3., -3.,  6., -2.,\n        -4., -1.,  0., -1., -3., -2., -3.,  0.,  1., -1., -5.],\n       [-1., -2., -2., -4., -2.,  0., -2., -3., -1.,  2.,  3., -2.,  7.,\n         0., -3., -2., -1., -1.,  0.,  1., -3., -1., -1., -5.],\n       [-3., -3., -4., -5., -2., -4., -3., -4., -1.,  0.,  1., -4.,  0.,\n         8., -4., -3., -2.,  1.,  4., -1., -4., -4., -2., -5.],\n       [-1., -3., -2., -1., -4., -1., -1., -2., -2., -3., -4., -1., -3.,\n        -4., 10., -1., -1., -4., -3., -3., -2., -1., -2., -5.],\n       [ 1., -1.,  1.,  0., -1.,  0., -1.,  0., -1., -3., -3.,  0., -2.,\n        -3., -1.,  5.,  2., -4., -2., -2.,  0.,  0., -1., -5.],\n       [ 0., -1.,  0., -1., -1., -1., -1., -2., -2., -1., -1., -1., -1.,\n        -2., -1.,  2.,  5., -3., -2.,  0.,  0., -1.,  0., -5.],\n       [-3., -3., -4., -5., -5., -1., -3., -3., -3., -3., -2., -3., -1.,\n         1., -4., -4., -3., 15.,  2., -3., -5., -2., -3., -5.],\n       [-2., -1., -2., -3., -3., -1., -2., -3.,  2., -1., -1., -2.,  0.,\n         4., -3., -2., -2.,  2.,  8., -1., -3., -2., -1., -5.],\n       [ 0., -3., -3., -4., -1., -3., -3., -4., -4.,  4.,  1., -3.,  1.,\n        -1., -3., -2.,  0., -3., -1.,  5., -4., -3., -1., -5.],\n       [-2., -1.,  4.,  5., -3.,  0.,  1., -1.,  0., -4., -4.,  0., -3.,\n        -4., -2.,  0.,  0., -5., -3., -4.,  5.,  2., -1., -5.],\n       [-1.,  0.,  0.,  1., -3.,  4.,  5., -2.,  0., -3., -3.,  1., -1.,\n        -4., -1.,  0., -1., -2., -2., -3.,  2.,  5., -1., -5.],\n       [-1., -1., -1., -1., -2., -1., -1., -2., -1., -1., -1., -1., -1.,\n        -2., -2., -1.,  0., -3., -1., -1., -1., -1., -1., -5.],\n       [-5., -5., -5., -5., -5., -5., -5., -5., -5., -5., -5., -5., -5.,\n        -5., -5., -5., -5., -5., -5., -5., -5., -5., -5.,  1.]],\n         alphabet='ARNDCQEGHILKMFPSTWYVBZX*')"
     },
     "execution_count": 5,
     "metadata": {},
     "output_type": "execute_result"
    }
   ],
   "source": [
    "BLOSUM50 = substitution_matrices.load('BLOSUM50')\n",
    "BLOSUM50"
   ]
  },
  {
   "cell_type": "markdown",
   "metadata": {
    "colab_type": "text",
    "id": "t7OXUYTIE2Gn"
   },
   "source": [
    "To see the alphabet used in the matrix:"
   ]
  },
  {
   "cell_type": "code",
   "execution_count": 6,
   "metadata": {
    "colab": {},
    "colab_type": "code",
    "id": "GC3FGMRSE2Go",
    "outputId": "4b1c1fdc-c6a5-407c-d193-2d0a84821482"
   },
   "outputs": [
    {
     "data": {
      "text/plain": "'ARNDCQEGHILKMFPSTWYVBZX*'"
     },
     "execution_count": 6,
     "metadata": {},
     "output_type": "execute_result"
    }
   ],
   "source": [
    "BLOSUM50.alphabet"
   ]
  },
  {
   "cell_type": "markdown",
   "metadata": {
    "colab_type": "text",
    "id": "o9wl3Eb0E2Gq"
   },
   "source": [
    "To get the score for a particular pair of symbols from matrix, for example A and M:"
   ]
  },
  {
   "cell_type": "code",
   "execution_count": 7,
   "metadata": {
    "colab": {},
    "colab_type": "code",
    "id": "d6cm024mE2Gr",
    "outputId": "34b53cd3-35e0-4782-e74b-5153f72c7a3f"
   },
   "outputs": [
    {
     "data": {
      "text/plain": "-1.0"
     },
     "execution_count": 7,
     "metadata": {},
     "output_type": "execute_result"
    }
   ],
   "source": [
    "BLOSUM50['A','M']"
   ]
  },
  {
   "cell_type": "markdown",
   "metadata": {
    "colab_type": "text",
    "id": "IWIbtpt3E2Gw"
   },
   "source": [
    "For additional info: https://biopython.org/docs/dev/api/Bio.Align.substitution_matrices.html"
   ]
  },
  {
   "cell_type": "markdown",
   "metadata": {
    "colab_type": "text",
    "id": "pRvq5awAE2Gw"
   },
   "source": [
    "## Needleman-Wunsch algorithm"
   ]
  },
  {
   "cell_type": "markdown",
   "metadata": {
    "colab_type": "text",
    "id": "lHVgUNubE2Gx"
   },
   "source": [
    "Recurrence relation:\n",
    "$$w_{ij} = max \\begin{cases}\n",
    "    w_{i-1j} - D\\\\\n",
    "    w_{ij-1} - D\\\\\n",
    "    w_{i-1j-1} + S_M(s_{1i},s_{2j}),\n",
    "  \\end{cases}$$ \n",
    "\n",
    "$m,n$ - lengths of $s_1$ and $s_2$, $S_M$ is a substitution matrix, $D$ is an indel penalty.\n",
    "\n",
    "$w_{mn}$ is the score of the optimal global alignment.\n",
    "\n",
    "Implement Needleman-Wunsch algorithm."
   ]
  },
  {
   "cell_type": "code",
   "execution_count": 8,
   "metadata": {
    "colab": {},
    "colab_type": "code",
    "id": "uhjXGiXsE2Gx"
   },
   "outputs": [],
   "source": [
    "def Needleman_Wunsch(s1,s2,S_M,D):\n",
    "    '''\n",
    "    Input: s1,s2 - sequences, S_M - substitution matrix, D - indel penalty.\n",
    "    Output: s1_aligned,s2_aligned - aligned variants of sequences s1,s2, W - weight of optimal alignment\n",
    "    Example output: s1_aligned=\"ABCDE\", s2_aligned=\"ABC-E\", W=3\n",
    "    '''\n",
    "    #your code here\n",
    "    \n",
    "    return s1_aligned,s2_aligned,W"
   ]
  },
  {
   "cell_type": "markdown",
   "metadata": {
    "colab_type": "text",
    "id": "AmE87f3HE2G0"
   },
   "source": [
    "Demonstrate how your implementation aligns two protein sequences. Use PAM250 substitution matrix."
   ]
  },
  {
   "cell_type": "code",
   "execution_count": 9,
   "metadata": {
    "colab": {},
    "colab_type": "code",
    "id": "r4rOkeehE2G0"
   },
   "outputs": [],
   "source": [
    "#your code here"
   ]
  },
  {
   "cell_type": "code",
   "execution_count": 10,
   "metadata": {
    "colab": {},
    "colab_type": "code",
    "id": "WmxoLjC8E2G3"
   },
   "outputs": [],
   "source": [
    "#review"
   ]
  },
  {
   "cell_type": "markdown",
   "metadata": {
    "colab_type": "text",
    "id": "nPYqeYWjE2G6"
   },
   "source": [
    "## Smith-Waterman algorithm\n"
   ]
  },
  {
   "cell_type": "markdown",
   "metadata": {
    "colab_type": "text",
    "id": "rxXg5jzzE2G7"
   },
   "source": [
    "Recurrence relation:\n",
    "$$w_{ij} = max \\begin{cases}\n",
    "    0\\\\\n",
    "    w_{i-1j} - D\\\\\n",
    "    w_{ij-1} - D\\\\\n",
    "    w_{i-1j-1} + S_M(s_{1i},s_{2j}),\n",
    "  \\end{cases}$$\n",
    "\n",
    "$m,n$ - lengths of $s_1$ and $s_2$, $S_M$ is a substitution matrix, $D$ is an indel penalty.\n",
    "\n",
    "The largest element among $w_{ij}$ is an optimal local alignment score.\n",
    "\n",
    "Implement Smith-Waterman algorithm."
   ]
  },
  {
   "cell_type": "code",
   "execution_count": 11,
   "metadata": {
    "colab": {},
    "colab_type": "code",
    "id": "g6ORA8G_E2G7"
   },
   "outputs": [],
   "source": [
    "def Smith_Waterman(s1,s2,S_M,D):\n",
    "    '''\n",
    "    Input: s1,s2 - sequences, S_M - substitution matrix, D - indel penalty\n",
    "    Output: s1_sub,s2_sub - substrings of s1,s2 that correspond to the optimal local alignment, \n",
    "            W - weight of optimal alignment\n",
    "    '''\n",
    "    #your code here\n",
    "    \n",
    "    return s1_sub,s2_sub,W"
   ]
  },
  {
   "cell_type": "markdown",
   "metadata": {
    "colab_type": "text",
    "id": "DAEufeulE2G_"
   },
   "source": [
    "Demonstrate how your implementation aligns two protein sequences. Use BLOSUM62 substitution matrix."
   ]
  },
  {
   "cell_type": "code",
   "execution_count": 12,
   "metadata": {
    "colab": {},
    "colab_type": "code",
    "id": "XbtmaQvtE2HA"
   },
   "outputs": [],
   "source": [
    "#your code here"
   ]
  },
  {
   "cell_type": "code",
   "execution_count": 13,
   "metadata": {
    "colab": {},
    "colab_type": "code",
    "id": "ikjRvAkfE2HC"
   },
   "outputs": [],
   "source": [
    "#review"
   ]
  },
  {
   "cell_type": "markdown",
   "metadata": {
    "colab_type": "text",
    "id": "HNpHTAc3E2HF"
   },
   "source": [
    "## Affine gap penalty"
   ]
  },
  {
   "cell_type": "markdown",
   "metadata": {
    "colab_type": "text",
    "id": "BTDMq5BrE2HF"
   },
   "source": [
    "In previous tasks we used **linear gap penalty**, where the gap of length $l$ costs $Dl$ ($D$ is a penalty for one symbol gap).\n",
    "\n",
    "There is another approach - **affine gap penalty**. Affine gap penalty for the gap of length $l$: \n",
    "$$\\gamma (l) =  D_1 + (l - 1)D_2,$$\n",
    "where $D_1$ is a gap opening penalty, $D_2$ is a gap extension penalty.\n",
    "\n",
    "$D_1$ is usually chosen to be larger than $D_2$."
   ]
  },
  {
   "cell_type": "markdown",
   "metadata": {
    "colab_type": "text",
    "id": "FEG6XolSE2HG"
   },
   "source": [
    "For the case of affine gap penalty the local alignment recurrence relation can be rewritten in the following way:\n",
    "\n",
    "$$w_{ij} = max \\begin{cases}\n",
    "    0\\\\\n",
    "    w_{kj} - \\gamma (i-k), k = 0,...i-1\\\\\n",
    "    w_{ik} - \\gamma (j-k), k = 0,...j-1\\\\\n",
    "    w_{i-1j-1} + S_M(s_{1i},s_{2j}),\n",
    "  \\end{cases}$$\n",
    "  \n",
    "To calculate $w_{ij}$ you now need to use $w_{i-1j-1}$ and all the matrix elements above and to the left of $w_{ij}$ (don't forget about zero weight edge)."
   ]
  },
  {
   "cell_type": "markdown",
   "metadata": {
    "colab_type": "text",
    "id": "cv_OGfK_E2HK"
   },
   "source": [
    "We need to align two sequences with lengths $n$ and $m$. What is the complexity of one step of the algotithm with linear gap penalty? What is the complexity of one step with affine gap penalty? "
   ]
  },
  {
   "cell_type": "code",
   "execution_count": 14,
   "metadata": {
    "colab": {},
    "colab_type": "code",
    "id": "X5_4r2zpE2HM"
   },
   "outputs": [],
   "source": [
    "#your answer"
   ]
  },
  {
   "cell_type": "markdown",
   "metadata": {
    "colab_type": "text",
    "id": "cDlXVm7sE2HP"
   },
   "source": [
    "What is the complexity of the whole procedure in both cases?"
   ]
  },
  {
   "cell_type": "code",
   "execution_count": 15,
   "metadata": {
    "colab": {},
    "colab_type": "code",
    "id": "REnVwQmQE2HQ"
   },
   "outputs": [],
   "source": [
    "#your answer"
   ]
  },
  {
   "cell_type": "markdown",
   "metadata": {
    "colab_type": "text",
    "id": "VnZ2h2crE2HS"
   },
   "source": [
    "Do we really need to check all elements to the left and above to get the maximum score in local alignment with affine gap penalty? Suggest a procedure that reduces the number of operations required for one step."
   ]
  },
  {
   "cell_type": "code",
   "execution_count": 16,
   "metadata": {
    "colab": {},
    "colab_type": "code",
    "id": "ohF0_m4OE2HS"
   },
   "outputs": [],
   "source": [
    "#your answer"
   ]
  },
  {
   "cell_type": "code",
   "execution_count": 17,
   "metadata": {
    "colab": {},
    "colab_type": "code",
    "id": "sxU5KB1GE2HV"
   },
   "outputs": [],
   "source": [
    "#review"
   ]
  },
  {
   "cell_type": "markdown",
   "metadata": {
    "colab_type": "text",
    "id": "85nzk55WE2HX"
   },
   "source": [
    "## Find alignment of two protein sequences"
   ]
  },
  {
   "cell_type": "markdown",
   "metadata": {
    "colab_type": "text",
    "id": "jnDEwGMxE2HX"
   },
   "source": [
    "We prepared a fasta file 'proteins.fasta' that contains two protein sequences. Your task is two load fasta sequences, examine their alignment and document eveything you do in the process. Write your conclusion about relation between these sequences. You may do whatever you think is necessary to be done."
   ]
  },
  {
   "cell_type": "code",
   "execution_count": 18,
   "metadata": {
    "colab": {},
    "colab_type": "code",
    "id": "3nSTl4c1E2HY"
   },
   "outputs": [],
   "source": [
    "#your answer"
   ]
  },
  {
   "cell_type": "markdown",
   "metadata": {
    "colab_type": "text",
    "id": "pkORUr8fE2Ha"
   },
   "source": [
    "What are these proteins? What are their functions?"
   ]
  },
  {
   "cell_type": "code",
   "execution_count": 19,
   "metadata": {
    "colab": {},
    "colab_type": "code",
    "id": "pPbjhRshE2Ha"
   },
   "outputs": [],
   "source": [
    "#your answer"
   ]
  },
  {
   "cell_type": "code",
   "execution_count": 20,
   "metadata": {
    "colab": {},
    "colab_type": "code",
    "id": "oJJ3aHrYE2Hc"
   },
   "outputs": [],
   "source": [
    "#review"
   ]
  }
 ],
 "metadata": {
  "accelerator": "TPU",
  "colab": {
   "name": "HW_1.ipynb",
   "provenance": [],
   "toc_visible": true
  },
  "kernelspec": {
   "display_name": "Python 3",
   "language": "python",
   "name": "python3"
  },
  "language_info": {
   "codemirror_mode": {
    "name": "ipython",
    "version": 3
   },
   "file_extension": ".py",
   "mimetype": "text/x-python",
   "name": "python",
   "nbconvert_exporter": "python",
   "pygments_lexer": "ipython3",
   "version": "3.8.2"
  }
 },
 "nbformat": 4,
 "nbformat_minor": 4
}